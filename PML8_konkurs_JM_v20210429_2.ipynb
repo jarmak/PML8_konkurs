{
 "cells": [
  {
   "cell_type": "markdown",
   "metadata": {},
   "source": [
    "# Konkurs | 8 edycja kursu \"Praktyczne uczenie maszynowe\"\n",
    "\n",
    "### Kaggle \n",
    "Konkurs będzie dostępny na Kaggle - link do [konkursu](https://bit.ly/3mFk2A0)."
   ]
  },
  {
   "cell_type": "code",
   "execution_count": 6,
   "metadata": {
    "ExecuteTime": {
     "end_time": "2021-04-29T21:51:52.268658Z",
     "start_time": "2021-04-29T21:51:52.261395Z"
    }
   },
   "outputs": [],
   "source": [
    "import pandas as pd\n",
    "import numpy as np\n",
    "np.random.seed(0)\n",
    "\n",
    "import re\n",
    "import sys\n",
    "\n",
    "# model\n",
    "from sklearn.dummy import DummyRegressor\n",
    "from sklearn.tree import DecisionTreeRegressor\n",
    "from sklearn.ensemble import RandomForestRegressor, ExtraTreesRegressor\n",
    "\n",
    "import xgboost as xgb\n",
    "import catboost as ctb\n",
    "\n",
    "from sklearn.model_selection import KFold\n",
    "from sklearn.model_selection import train_test_split, StratifiedKFold\n",
    "from sklearn.model_selection import learning_curve\n",
    "from sklearn.model_selection import ShuffleSplit\n",
    "\n",
    "import scikitplot as skplt\n",
    "from scikitplot.estimators import plot_learning_curve\n",
    "\n",
    "\n",
    "# metrics\n",
    "from sklearn.metrics import mean_absolute_error as mae\n",
    "\n",
    "import seaborn as sns\n",
    "\n",
    "import matplotlib.pyplot as plt\n",
    "\n",
    "%matplotlib inline"
   ]
  },
  {
   "cell_type": "code",
   "execution_count": 7,
   "metadata": {
    "ExecuteTime": {
     "end_time": "2021-04-29T21:51:55.129768Z",
     "start_time": "2021-04-29T21:51:54.264470Z"
    }
   },
   "outputs": [],
   "source": [
    "### read data\n",
    "train = pd.read_hdf('../input/property.train.h5')\n",
    "test = pd.read_hdf('../input/property.test.h5') # test data without prices"
   ]
  },
  {
   "cell_type": "code",
   "execution_count": 8,
   "metadata": {
    "ExecuteTime": {
     "end_time": "2021-04-29T21:51:55.888443Z",
     "start_time": "2021-04-29T21:51:55.886134Z"
    }
   },
   "outputs": [],
   "source": [
    "#train.info()\n",
    "#train.describe()\n",
    "#train.sample(10)"
   ]
  },
  {
   "cell_type": "code",
   "execution_count": 9,
   "metadata": {
    "ExecuteTime": {
     "end_time": "2021-04-29T21:51:57.654510Z",
     "start_time": "2021-04-29T21:51:57.389669Z"
    }
   },
   "outputs": [
    {
     "name": "stdout",
     "output_type": "stream",
     "text": [
      "train & test:  (45694, 35) (22667, 35)\n"
     ]
    }
   ],
   "source": [
    "df_all = pd.concat([train, test], axis=0)\n",
    "print(\"train & test: \", train.shape, test.shape)\n",
    "\n",
    "### Features engineering"
   ]
  },
  {
   "cell_type": "code",
   "execution_count": 10,
   "metadata": {
    "ExecuteTime": {
     "end_time": "2021-04-29T21:52:22.440464Z",
     "start_time": "2021-04-29T21:52:00.834524Z"
    }
   },
   "outputs": [
    {
     "name": "stdout",
     "output_type": "stream",
     "text": [
      "Extract + factorize geo_block\n"
     ]
    }
   ],
   "source": [
    "### Extract + factorize geo_block - VA starter\n",
    "print(\"Extract + factorize geo_block\")    \n",
    "\n",
    "def extract_geoblock(vals):\n",
    "    vals = vals[: int(len(vals) / 2)]\n",
    "    return {\"geo_block_{}\".format(idx):val.strip().lower() for idx, val in enumerate(vals)}\n",
    "\n",
    "df_geo_block = df_all[\"geo_block\"].map(extract_geoblock).apply(pd.Series)\n",
    "df_all = pd.concat([df_all, df_geo_block], axis=1)\n",
    "\n",
    "feats_geo_block = [ x for x in df_geo_block.columns]\n",
    "\n",
    "for f in feats_geo_block:\n",
    "    df_all[\"{}_cat\".format(f)] = df_all[f].factorize()[0]"
   ]
  },
  {
   "cell_type": "code",
   "execution_count": 11,
   "metadata": {
    "ExecuteTime": {
     "end_time": "2021-04-29T21:52:27.360537Z",
     "start_time": "2021-04-29T21:52:25.020847Z"
    }
   },
   "outputs": [
    {
     "name": "stdout",
     "output_type": "stream",
     "text": [
      "Factorize breadcrumbs\n"
     ]
    }
   ],
   "source": [
    "### Extract + factorize breadcrumbs - by JM\n",
    "print(\"Factorize breadcrumbs\")    \n",
    "address_street_codes = ['ул.','проезд.','пр-кт.','б-р.','пер.','аллея.','пл.']\n",
    "address_city_codes = ['г.','д.','с.']\n",
    "address_metro_station_codes = ['м.']\n",
    "address_rail_station_codes = ['МЦК ']\n",
    "address_park_codes = ['Парк']\n",
    "address_district_2_codes = ['п.','рп.']\n",
    "\n",
    "address_codes = address_street_codes + \\\n",
    "                address_city_codes + \\\n",
    "                address_metro_station_codes + \\\n",
    "                address_rail_station_codes + \\\n",
    "                address_park_codes + \\\n",
    "                address_district_2_codes\n",
    "#print(address_codes)\n",
    "                \n",
    "def get_district(row, address_codes, district_level):\n",
    "    ret_str = ''\n",
    "    \n",
    "    if len(row) <= 1:\n",
    "        return 'nan'\n",
    "    \n",
    "    ## District 1\n",
    "    if (district_level == 1) and (len(row) >= 2):\n",
    "        cc = row[1].lower()\n",
    "        is_address_code = 0\n",
    "        \n",
    "        for ac in address_codes:\n",
    "            if ac.lower() in cc.lower():\n",
    "                is_address_code += 1\n",
    "        \n",
    "        if is_address_code == 0:\n",
    "            ret_str = cc\n",
    "\n",
    "    ## District 2\n",
    "    if (district_level == 2) and (len(row) >= 2):\n",
    "\n",
    "        for cc in row[1:]:\n",
    "            is_address_code = 0\n",
    "            if 'п.' in cc.lower():\n",
    "                ret_str = ret_str + cc + ' - '\n",
    "\n",
    "        if ret_str == '' :\n",
    "            ret_str = 'NaN'\n",
    "        else:\n",
    "            ret_str = ret_str[:len(ret_str)-3] # remove ' - ' in the end of string\n",
    "        \n",
    "    ## District 3\n",
    "    if (district_level == 3) and (len(row) >= 3):\n",
    "    \n",
    "        for cc in row[2:]:\n",
    "            is_address_code = 0\n",
    "            for ac in address_codes:\n",
    "                if ac.lower() in cc.lower():\n",
    "                    is_address_code += 1\n",
    "            if is_address_code == 0:\n",
    "                ret_str = cc\n",
    "\n",
    "    if ret_str == '' :\n",
    "        ret_str = 'NaN'\n",
    "    \n",
    "    return str(ret_str).lower().strip()\n",
    "\n",
    "def get_value(row,search_string_arr):\n",
    "    ret_str = 'NaN'\n",
    "    for cc in row:\n",
    "        for st in search_string_arr:\n",
    "            if st.lower() in cc.lower():\n",
    "                ret_str = cc\n",
    "    return str(ret_str).lower().strip()   \n",
    "\n",
    "df_all['breadcrumbs_city'] = df_all['breadcrumbs'].map(lambda x: x[0])\n",
    "df_all['breadcrumbs_district_1'] = df_all['breadcrumbs'].map(lambda x: get_district(x,address_codes,1))\n",
    "df_all['breadcrumbs_district_2'] = df_all['breadcrumbs'].map(lambda x: get_district(x,address_codes,2))\n",
    "df_all['breadcrumbs_district_3'] = df_all['breadcrumbs'].map(lambda x: get_district(x,address_codes,3))\n",
    "df_all['breadcrumbs_city_2'] = df_all['breadcrumbs'].map(lambda x: get_value(x,address_city_codes))\n",
    "df_all['breadcrumbs_street'] = df_all['breadcrumbs'].map(lambda x: get_value(x,address_street_codes))\n",
    "df_all['breadcrumbs_metro_station'] = df_all['breadcrumbs'].map(lambda x: get_value(x,address_metro_station_codes))\n",
    "df_all['breadcrumbs_rail_station'] = df_all['breadcrumbs'].map(lambda x: get_value(x,address_rail_station_codes))\n",
    "df_all['breadcrumbs_park'] = df_all['breadcrumbs'].map(lambda x: get_value(x,address_park_codes))\n",
    "df_all['is_park_cat'] = df_all['breadcrumbs_park'].map(lambda x: 1 if x != 'nan' else 0)\n",
    "\n",
    "factorize_breadcrumbs_feats = [f for f in df_all.columns if \"breadcrumbs_\" in f]\n",
    "#print(\"factorize_breadcrumbs_feats: \", factorize_breadcrumbs_feats)\n",
    "for ff in factorize_breadcrumbs_feats:\n",
    "    df_all[\"{}_cat\".format(ff)] = df_all[ff].factorize()[0]"
   ]
  },
  {
   "cell_type": "code",
   "execution_count": 13,
   "metadata": {
    "ExecuteTime": {
     "end_time": "2021-04-29T21:53:18.664555Z",
     "start_time": "2021-04-29T21:52:57.300227Z"
    }
   },
   "outputs": [
    {
     "name": "stdout",
     "output_type": "stream",
     "text": [
      "Extract + factorize breadcrumbs\n"
     ]
    }
   ],
   "source": [
    "### Extract + factorize breadcrumbs - by VA idea\n",
    "print(\"Extract + factorize breadcrumbs\")    \n",
    "\n",
    "def extract_breadcrumbs(vals):\n",
    "    vals = vals[: int(len(vals))]\n",
    "    return {\"breadcrumbs_{}\".format(idx):val.strip().lower() for idx, val in enumerate(vals)}\n",
    "\n",
    "df_breadcrumbs = df_all[\"breadcrumbs\"].map(extract_breadcrumbs).apply(pd.Series)\n",
    "df_all = pd.concat([df_all, df_breadcrumbs], axis=1)\n",
    "\n",
    "feats_breadcrumbs = [ x for x in df_breadcrumbs.columns]\n",
    "\n",
    "for fb in feats_breadcrumbs:\n",
    "    df_all[\"{}_2_cat\".format(fb)] = df_all[fb].factorize()[0]\n"
   ]
  },
  {
   "cell_type": "code",
   "execution_count": 14,
   "metadata": {
    "ExecuteTime": {
     "end_time": "2021-04-29T21:53:56.880031Z",
     "start_time": "2021-04-29T21:53:34.871661Z"
    }
   },
   "outputs": [
    {
     "name": "stdout",
     "output_type": "stream",
     "text": [
      "Factorize date\n"
     ]
    }
   ],
   "source": [
    "### Factorize date\n",
    "print(\"Factorize date\")    \n",
    "\n",
    "def extract_date(vals):\n",
    "    vals = vals[: int(len(vals))]\n",
    "    return {\"date_{}\".format(idx):val.strip().lower() for idx, val in enumerate(vals)}\n",
    "\n",
    "df_date = df_all[\"date\"].map(extract_date).apply(pd.Series)\n",
    "df_date['date_1_cat'] = df_date['date_1'].map(lambda x: int(x))\n",
    "\n",
    "df_all = pd.concat([df_all, df_date], axis=1)\n",
    "\n",
    "feats_date_cat = ['date_0','date_2','date_3']\n",
    "for fd in feats_date_cat:\n",
    "    df_all[\"{}_cat\".format(fd)] = df_all[fd].factorize()[0]"
   ]
  },
  {
   "cell_type": "code",
   "execution_count": 15,
   "metadata": {
    "ExecuteTime": {
     "end_time": "2021-04-29T21:53:59.286094Z",
     "start_time": "2021-04-29T21:53:59.029228Z"
    }
   },
   "outputs": [
    {
     "name": "stdout",
     "output_type": "stream",
     "text": [
      "Factorize *: columns\n"
     ]
    }
   ],
   "source": [
    "### Factorize *: columns by VA - VA starter\n",
    "print(\"Factorize *: columns\")\n",
    "factorize_other_feats = [f for f in df_all.columns if \":\" in f]\n",
    "for feat in factorize_other_feats:\n",
    "    df_all[\"{}_cat\".format(feat)] = df_all[feat].factorize()[0]"
   ]
  },
  {
   "cell_type": "code",
   "execution_count": 16,
   "metadata": {
    "ExecuteTime": {
     "end_time": "2021-04-29T21:54:05.153523Z",
     "start_time": "2021-04-29T21:54:05.117359Z"
    }
   },
   "outputs": [],
   "source": [
    "### Owner\n",
    "df_all['owner_str'] = df_all['owner'].map(lambda x: str(x[0]) if (len(x)>0) else 'nan')\n",
    "df_all[\"owner_cat\"] = df_all['owner_str'].factorize()[0]"
   ]
  },
  {
   "cell_type": "code",
   "execution_count": 17,
   "metadata": {
    "ExecuteTime": {
     "end_time": "2021-04-29T21:54:14.390199Z",
     "start_time": "2021-04-29T21:54:13.965820Z"
    }
   },
   "outputs": [],
   "source": [
    "### Split for train and test \n",
    "df_train, df_test = df_all[ False == df_all[\"price\"].isnull() ], df_all[ df_all[\"price\"].isnull() ]"
   ]
  },
  {
   "cell_type": "code",
   "execution_count": 18,
   "metadata": {
    "ExecuteTime": {
     "end_time": "2021-04-29T21:54:41.427054Z",
     "start_time": "2021-04-29T21:54:33.805086Z"
    }
   },
   "outputs": [
    {
     "name": "stdout",
     "output_type": "stream",
     "text": [
      "train model\n",
      "predict\n"
     ]
    }
   ],
   "source": [
    "### VA starter + hyperopt\n",
    "feats = [x for x in df_all.columns if \"_cat\" in x]\n",
    "#print(\"feats: \", feats)\n",
    "\n",
    "X_train, X_test = df_train[feats].values, df_test[feats].values\n",
    "y_train = df_train[\"price\"].values\n",
    "\n",
    "y_log_train = np.log(y_train)\n",
    "\n",
    "print(\"train model\")\n",
    "#model = xgb.XGBRegressor(n_estimators=70, learning_rate=0.2, max_depth=10, random_state=0)\n",
    "model = xgb.XGBRegressor(\n",
    "    n_estimators=50, #200\n",
    "    colsample_bytree=0.8566713008117716,  \n",
    "    learning_rate=0.14342660714953284, \n",
    "    max_depth=20, \n",
    "    min_child_weight=6.0,\n",
    "    random_state=0,\n",
    "    reg_alpha=1.9166748702047074, \n",
    "    reg_lambda=0.8627457435047747, \n",
    "    subsample=0.9982487838808752)\n",
    "xgb_rmodel = model.fit(X_train, y_log_train)\n",
    "\n",
    "print(\"predict\")\n",
    "y_log_pred = model.predict(X_test)\n",
    "y_pred = np.exp(y_log_pred)\n",
    "y_pred[y_pred<=0] = y_pred.min()"
   ]
  },
  {
   "cell_type": "code",
   "execution_count": 19,
   "metadata": {
    "ExecuteTime": {
     "end_time": "2021-04-29T21:55:01.082701Z",
     "start_time": "2021-04-29T21:55:01.025371Z"
    }
   },
   "outputs": [
    {
     "name": "stdout",
     "output_type": "stream",
     "text": [
      "save file\n"
     ]
    }
   ],
   "source": [
    "### save file\n",
    "print(\"save file\")\n",
    "test['price'] = y_pred\n",
    "test[ ['id', 'price'] ].to_csv('../output/xgboost_12.csv', index=False)"
   ]
  },
  {
   "cell_type": "code",
   "execution_count": 20,
   "metadata": {
    "ExecuteTime": {
     "end_time": "2021-04-29T21:55:09.399660Z",
     "start_time": "2021-04-29T21:55:08.133356Z"
    }
   },
   "outputs": [
    {
     "name": "stdout",
     "output_type": "stream",
     "text": [
      "Feature Importance\n"
     ]
    },
    {
     "data": {
      "image/png": "[encoded data removed]",
      "text/plain": [
       "<Figure size 1080x360 with 1 Axes>"
      ]
     },
     "metadata": {
      "needs_background": "light"
     },
     "output_type": "display_data"
    }
   ],
   "source": [
    "print(\"Feature Importance\")\n",
    "title='Feature Importance'\n",
    "skplt.estimators.plot_feature_importances(model, feature_names=feats, title=title, x_tick_rotation=90, figsize=(15, 5));    "
   ]
  },
  {
   "cell_type": "code",
   "execution_count": null,
   "metadata": {},
   "outputs": [],
   "source": [
    "#print(\"xgbfir\")\n",
    "#import xgbfir\n",
    "#xgb_rmodel = xgb.XGBRegressor().fit(X_train, y_log_train)\n",
    "#xgbfir.saveXgbFI(xgb_rmodel, feature_names=feats, OutputXlsxFile='../output/xgbfir_fi_2.xlsx')"
   ]
  },
  {
   "cell_type": "code",
   "execution_count": 21,
   "metadata": {
    "ExecuteTime": {
     "end_time": "2021-04-29T21:55:24.724921Z",
     "start_time": "2021-04-29T21:55:18.675043Z"
    }
   },
   "outputs": [
    {
     "name": "stdout",
     "output_type": "stream",
     "text": [
      "train model\n",
      "predict\n",
      "MAE:  5.153294450526949\n"
     ]
    }
   ],
   "source": [
    "### train_test_split\n",
    "\n",
    "# wydzielam lokalny zbiór treningowy i testowy\n",
    "feats = [x for x in df_train.columns if \"_cat\" in x]\n",
    "\n",
    "X_train, X_test, y_train, y_test = train_test_split(df_train[feats], df_train[['price']], test_size=0.2, random_state=0)\n",
    "y_log_train = np.log(y_train)\n",
    "\n",
    "print(\"train model\")\n",
    "#model = xgb.XGBRegressor(n_estimators=70, learning_rate=0.2, max_depth=10, random_state=0)\n",
    "#model = ctb.CatBoostRegressor(n_estimators=70, depth=10, random_state=0, verbose=False)\n",
    "model = xgb.XGBRegressor(\n",
    "    n_estimators=50, \n",
    "    colsample_bytree=0.8566713008117716,  \n",
    "    learning_rate=0.14342660714953284, \n",
    "    max_depth=20, \n",
    "    min_child_weight=6.0,\n",
    "    random_state=0,\n",
    "    reg_alpha=1.9166748702047074, \n",
    "    reg_lambda=0.8627457435047747, \n",
    "    subsample=0.9982487838808752)\n",
    "\n",
    "model.fit(X_train, y_log_train)\n",
    "\n",
    "print(\"predict\")\n",
    "y_log_pred = model.predict(X_test)\n",
    "y_pred = np.exp(y_log_pred)\n",
    "y_pred[y_pred<=0] = y_train.min()\n",
    "\n",
    "print(\"MAE: \",mae(y_test,y_pred)) \n",
    "# 5.132231612597657 xgb\n",
    "# 5.153294450526949 xgb + hyperopt\n",
    "# 5.374401953596552 ctb\n"
   ]
  },
  {
   "cell_type": "code",
   "execution_count": 22,
   "metadata": {
    "ExecuteTime": {
     "end_time": "2021-04-29T21:55:49.371894Z",
     "start_time": "2021-04-29T21:55:44.958164Z"
    }
   },
   "outputs": [],
   "source": [
    "import xgbfir\n",
    "xgb_rmodel = xgb.XGBRegressor().fit(X_train, y_log_train)\n",
    "xgbfir.saveXgbFI(xgb_rmodel, feature_names=feats, OutputXlsxFile='../output/xgbfir_fi.xlsx')\n",
    "aa1 = pd.read_excel('../output/xgbfir_fi.xlsx', 'Interaction Depth 0')\n",
    "aa2 = pd.read_excel('../output/xgbfir_fi.xlsx', 'Interaction Depth 1')\n",
    "aa3 = pd.read_excel('../output/xgbfir_fi.xlsx', 'Interaction Depth 2')"
   ]
  },
  {
   "cell_type": "code",
   "execution_count": null,
   "metadata": {},
   "outputs": [],
   "source": [
    "### HYPEROPT\n",
    "from functools import partial\n",
    "from hyperopt import hp, fmin, tpe, STATUS_OK, Trials\n",
    "\n",
    "def objective(space):\n",
    "    \n",
    "    xgb_params = {\n",
    "        'max_depth': int(space['max_depth']),\n",
    "        'colsample_bytree': space['colsample_bytree'],\n",
    "        'learning_rate': space['learning_rate'],\n",
    "        'subsample': space['subsample'],\n",
    "        'random_state': int(space['random_state']),\n",
    "        'min_child_weight': int(space['min_child_weight']),\n",
    "        'reg_alpha': space['reg_alpha'],\n",
    "        'reg_lambda': space['reg_lambda'],\n",
    "        'n_estimators': 20,\n",
    "        'objective': 'reg:squarederror'\n",
    "    }\n",
    "    \n",
    "    model = xgb.XGBRegressor(**xgb_params)\n",
    "    model.fit(X_train, y_train)\n",
    "    y_pred = model.predict(X_test)\n",
    "    \n",
    "    score = mae(y_test, y_pred)\n",
    "    \n",
    "    return{'loss':score, 'status': STATUS_OK }\n",
    "    \n",
    "space ={\n",
    "    'max_depth': hp.quniform ('x_max_depth', 5, 100, 1),\n",
    "    'colsample_bytree': hp.uniform ('x_colsample_bytree', 0.8, 1.),\n",
    "    'learning_rate': hp.uniform ('x_learning_rate', 0.05, 0.3),\n",
    "    'subsample': hp.uniform ('x_subsample', 0.7, 1.),\n",
    "    'random_state': hp.quniform ('x_random_state', 0, 10000, 50),\n",
    "    'min_child_weight': hp.quniform ('x_min_child_weight', 1, 10, 1),\n",
    "    'reg_alpha': hp.loguniform ('x_reg_alpha', 0., 1.),\n",
    "    'reg_lambda': hp.uniform ('x_reg_lambda', 0.7, 1.),\n",
    "}\n",
    "#('XGBoost', xgb.XGBRegressor(n_estimators=70, learning_rate=0.2, max_depth=10, random_state=0)),\n",
    "\n",
    "\n",
    "trials = Trials()\n",
    "best_params = fmin(fn=objective,\n",
    "            space=space,\n",
    "            algo=partial(tpe.suggest, n_startup_jobs=1),\n",
    "            max_evals=30,\n",
    "            trials=trials)\n",
    "\n",
    "print(\"The best params: \", best_params)\n",
    "\n",
    "#100%|██████████| 30/30 [01:09<00:00,  2.32s/trial, best loss: 5.099937308653067]\n",
    "# The best params:  {'x_colsample_bytree': 0.8566713008117716, 'x_learning_rate': 0.14342660714953284, \n",
    "# 'x_max_depth': 20.0, 'x_min_child_weight': 6.0, 'x_random_state': 1500.0, 'x_reg_alpha': 1.9166748702047074, \n",
    "# 'x_reg_lambda': 0.8627457435047747, 'x_subsample': 0.9982487838808752}"
   ]
  },
  {
   "cell_type": "code",
   "execution_count": null,
   "metadata": {},
   "outputs": [],
   "source": [
    "#trials.best_trial"
   ]
  },
  {
   "cell_type": "code",
   "execution_count": 24,
   "metadata": {
    "ExecuteTime": {
     "end_time": "2021-04-29T21:30:54.916076Z",
     "start_time": "2021-04-29T21:30:54.899647Z"
    }
   },
   "outputs": [],
   "source": [
    "def get_feats(df):\n",
    "    feats = df.select_dtypes(include=[int, float]).columns \n",
    "    return feats[ (feats != 'price') & (feats != 'price_log') ].values\n",
    "\n",
    "def get_X(df):\n",
    "    return df[ get_feats(df) ].values\n",
    "\n",
    "def get_y(df, target_var='price'):\n",
    "    return df[target_var].values\n",
    "\n",
    "def run_cv(model, X, y, Xt, folds=4, target_log=False,cv_type=KFold, success_metric=mae, with_test=False):\n",
    "    cv = cv_type(n_splits=folds, shuffle=True, random_state=0)\n",
    "    \n",
    "    scores = []\n",
    "    for train_idx, test_idx in cv.split(X):      # KFold\n",
    "        X_train, X_test = X[train_idx], X[test_idx]\n",
    "        y_train, y_test = y[train_idx], y[test_idx]\n",
    "\n",
    "        if target_log:\n",
    "            y_train = np.log(y_train)\n",
    "\n",
    "        model.fit(X_train, y_train)\n",
    "\n",
    "        if with_test:\n",
    "            ff = get_feats(Xt)\n",
    "            X_test = Xt[ff].values\n",
    "\n",
    "        y_pred = model.predict(X_test)\n",
    "        \n",
    "        if target_log:\n",
    "            y_pred = np.exp(y_pred)\n",
    "            if (with_test == False) and (len(y_pred) > 0):\n",
    "                y_pred[y_pred <= 0] = y_pred.min() #czasem może być wartość ujemna\n",
    "                \n",
    "        if with_test == False:\n",
    "            score = success_metric(y_test, y_pred)\n",
    "            scores.append( score )\n",
    "        else:\n",
    "            scores.append([-1,-1])\n",
    "    \n",
    "    return np.mean(scores), np.std(scores), y_pred\n",
    "\n",
    "\n",
    "def plot_learning_curve(model, title, X, y, ylim=None, cv=None,\n",
    "                        n_jobs=1, train_sizes=np.linspace(.1, 1.0, 5), target_log=False):\n",
    "    \n",
    "    plt.figure(figsize=(12,8))\n",
    "    plt.title(title)\n",
    "    if ylim is not None:plt.ylim(*ylim)\n",
    "\n",
    "    plt.xlabel(\"Training examples\")\n",
    "    plt.ylabel(\"Score\")\n",
    "    \n",
    "    if target_log:\n",
    "        y = np.log(y)\n",
    "    \n",
    "    def my_scorer(model, X, y):\n",
    "        y_pred = model.predict(X)\n",
    "        \n",
    "        if target_log:\n",
    "            y = np.exp(y)\n",
    "            y_pred = np.exp(y_pred)\n",
    "            \n",
    "        y_pred[ y_pred<=0 ] = y_pred.min()\n",
    "        \n",
    "        return mae(y, y_pred)\n",
    "\n",
    "\n",
    "    plt.fill_between(train_sizes, train_scores_mean - train_scores_std,\n",
    "                     train_scores_mean + train_scores_std, alpha=0.1,\n",
    "                     color=\"r\")\n",
    "    plt.fill_between(train_sizes, test_scores_mean - test_scores_std,\n",
    "                     test_scores_mean + test_scores_std, alpha=0.1, color=\"g\")\n",
    "    plt.plot(train_sizes, train_scores_mean, 'o-', color=\"r\",\n",
    "             label=\"Training score\")\n",
    "    plt.plot(train_sizes, test_scores_mean, 'o-', color=\"g\",\n",
    "             label=\"Cross-validation score\")\n",
    "\n",
    "    plt.legend(loc=\"best\")\n",
    "    return plt\n",
    "\n",
    "\n",
    "def get_models():\n",
    "    return [\n",
    "#        ('XGBoost', xgb.XGBRegressor(n_estimators=70, learning_rate=0.2, max_depth=10, random_state=0)),\n",
    "        ('XGBoost', xgb.XGBRegressor(\n",
    "                        n_estimators=50, \n",
    "                        colsample_bytree=0.8566713008117716,  \n",
    "                        learning_rate=0.14342660714953284, \n",
    "                        max_depth=20, \n",
    "                        min_child_weight=6.0,\n",
    "                        random_state=0,\n",
    "                        reg_alpha=1.9166748702047074, \n",
    "                        reg_lambda=0.8627457435047747, \n",
    "                        subsample=0.9982487838808752)\n",
    "        ),\n",
    "#        ('CatBoost', ctb.CatBoostRegressor(n_estimators=70, max_depth=10, random_state=0)),\n",
    "    ]\n",
    "def run(train, df_test, plot_lc=False, folds=3, ylim=(0, 2), target_log=False, with_test=False):\n",
    "    X, y  = get_X(train), get_y(train)\n",
    "\n",
    "    for model_name, model in get_models():\n",
    "        score_mean, score_std, y_pred = run_cv(model, X, y, df_test, folds=folds, target_log=target_log, with_test=with_test)\n",
    "        print(\"[{0}]: {1} +/-{2}\".format(model_name, score_mean, score_std))\n",
    "        if model_name != 'CatBoost':\n",
    "            sys.stdout.flush() #wypisujemy wynik natychmiast, bez buforowania\n",
    "            \n",
    "        if False == plot_lc: continue\n",
    "        plt = plot_learning_curve(model, model_name, X, y, ylim=ylim, cv=folds, target_log=target_log)\n",
    "        plt.show()\n",
    "        \n",
    "    return y_pred\n",
    "\n"
   ]
  },
  {
   "cell_type": "code",
   "execution_count": 27,
   "metadata": {
    "ExecuteTime": {
     "end_time": "2021-04-29T21:32:39.672013Z",
     "start_time": "2021-04-29T21:32:24.798277Z"
    }
   },
   "outputs": [
    {
     "name": "stdout",
     "output_type": "stream",
     "text": [
      "[XGBoost]: -1.0 +/-0.0\n"
     ]
    }
   ],
   "source": [
    "#df_train.columns\n",
    "y_pred = run(df_train, df_test, plot_lc=False, target_log=True, with_test=True)\n",
    "# [XGBRegressor]: 5.163914615929549 +/-0.17341771527896557 - price_log KFOld"
   ]
  },
  {
   "cell_type": "code",
   "execution_count": 29,
   "metadata": {
    "ExecuteTime": {
     "end_time": "2021-04-29T21:34:36.634670Z",
     "start_time": "2021-04-29T21:34:36.574765Z"
    }
   },
   "outputs": [
    {
     "name": "stdout",
     "output_type": "stream",
     "text": [
      "# save file\n"
     ]
    }
   ],
   "source": [
    "### Zapis do pliku\n",
    "print(\"# save file\")\n",
    "test['price'] = y_pred\n",
    "test[ ['id', 'price'] ].to_csv('../output/jm_xgboost_v7.csv', index=False)"
   ]
  },
  {
   "cell_type": "code",
   "execution_count": 12,
   "metadata": {
    "ExecuteTime": {
     "end_time": "2021-04-22T20:46:31.783440Z",
     "start_time": "2021-04-22T20:46:31.779570Z"
    }
   },
   "outputs": [],
   "source": [
    "def check_missing(df):\n",
    "    for column in df.columns:\n",
    "        missing = column, df[column].isnull().sum()\n",
    "        if missing[1] == 0: continue\n",
    "\n",
    "        print(missing)\n",
    "        \n",
    "#check_missing(df_train)"
   ]
  },
  {
   "cell_type": "code",
   "execution_count": 30,
   "metadata": {
    "ExecuteTime": {
     "end_time": "2021-04-29T21:39:06.710431Z",
     "start_time": "2021-04-29T21:39:06.707763Z"
    }
   },
   "outputs": [],
   "source": [
    "#with pd.option_context('display.max_colwidth', 100):\n",
    "#    display(train[['breadcrumbs']])"
   ]
  }
 ],
 "metadata": {
  "kernelspec": {
   "display_name": "Python 3",
   "language": "python",
   "name": "python3"
  },
  "language_info": {
   "codemirror_mode": {
    "name": "ipython",
    "version": 3
   },
   "file_extension": ".py",
   "mimetype": "text/x-python",
   "name": "python",
   "nbconvert_exporter": "python",
   "pygments_lexer": "ipython3",
   "version": "3.8.6"
  },
  "varInspector": {
   "cols": {
    "lenName": 16,
    "lenType": 16,
    "lenVar": 40
   },
   "kernels_config": {
    "python": {
     "delete_cmd_postfix": "",
     "delete_cmd_prefix": "del ",
     "library": "var_list.py",
     "varRefreshCmd": "print(var_dic_list())"
    },
    "r": {
     "delete_cmd_postfix": ") ",
     "delete_cmd_prefix": "rm(",
     "library": "var_list.r",
     "varRefreshCmd": "cat(var_dic_list()) "
    }
   },
   "types_to_exclude": [
    "module",
    "function",
    "builtin_function_or_method",
    "instance",
    "_Feature"
   ],
   "window_display": false
  }
 },
 "nbformat": 4,
 "nbformat_minor": 2
}
